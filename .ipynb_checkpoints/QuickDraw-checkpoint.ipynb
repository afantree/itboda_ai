{
 "cells": [
  {
   "cell_type": "code",
   "execution_count": 1,
   "metadata": {},
   "outputs": [],
   "source": [
    "import tensorflow as tf\n",
    "import numpy as np\n",
    "import os\n",
    "import matplotlib.pyplot as plt\n",
    "from sklearn.model_selection import train_test_split"
   ]
  },
  {
   "cell_type": "code",
   "execution_count": 2,
   "metadata": {},
   "outputs": [
    {
     "data": {
      "text/plain": [
       "'1.13.1'"
      ]
     },
     "execution_count": 2,
     "metadata": {},
     "output_type": "execute_result"
    }
   ],
   "source": [
    "tf.__version__"
   ]
  },
  {
   "cell_type": "code",
   "execution_count": 3,
   "metadata": {},
   "outputs": [
    {
     "name": "stdout",
     "output_type": "stream",
     "text": [
      "(784,)\n"
     ]
    },
    {
     "data": {
      "text/plain": [
       "<matplotlib.image.AxesImage at 0x7f3d4fb43358>"
      ]
     },
     "execution_count": 3,
     "metadata": {},
     "output_type": "execute_result"
    },
    {
     "data": {
      "image/png": "[encoded data removed]",
      "text/plain": [
       "<Figure size 432x288 with 1 Axes>"
      ]
     },
     "metadata": {
      "needs_background": "light"
     },
     "output_type": "display_data"
    }
   ],
   "source": [
    "# 加载一张图片看看效果\n",
    "z = np.load('./data/' + os.listdir('./data')[0])\n",
    "# 可以查看出，它的大小为 784， 以便下面X 初始化为 784\n",
    "print(z[0].shape)\n",
    "plt.imshow(z[0].reshape(28,28), cmap='gray', vmin=0, vmax=255)"
   ]
  },
  {
   "cell_type": "code",
   "execution_count": 4,
   "metadata": {},
   "outputs": [],
   "source": [
    "names = []\n",
    "# 加载数据集\n",
    "def load_dataset(dafile):\n",
    "    count = 0\n",
    "    \n",
    "    # 每次加载多少张图片\n",
    "    images_per_class = 10000\n",
    "    \n",
    "    # 大小为（0，784） 784的来源就是上面的原因\n",
    "    X = np.empty([0, 784])\n",
    "    Y = np.empty([0, 1])\n",
    "    \n",
    "    # 加载数据集[butterfly.npy , clock.npy, door.npy, ...]\n",
    "    for file in os.listdir(dafile):\n",
    "        fn = dafile + file\n",
    "        names.append(file)\n",
    "        # 加载npy, 提取10000张图片分析\n",
    "        images = np.load(fn).astype('float32')\n",
    "        # （10000，784）\n",
    "        images = images[0:images_per_class, :]\n",
    "        # 返回给定形状和类型的新数组\n",
    "        # 比如 count = 3时， label = [[3],[3],[3],...], （10000，1）\n",
    "        labels = np.full((images_per_class, 1), count)\n",
    "        # 连接，count = 2时，X(30000, 784), Y(30000, 1)\n",
    "        X = np.concatenate((X, images), axis = 0)\n",
    "        Y = np.concatenate((Y, labels), axis = 0)\n",
    "        count += 1\n",
    "        \n",
    "    # 洗牌, 打乱顺序，0 到 Y.shape[0], \n",
    "    order = np.random.permutation(Y.shape[0])\n",
    "    X = X[order, :]\n",
    "    Y = Y[order, :]\n",
    "    # 拆分测试数据集和训练集，1:9\n",
    "    X_train, X_test, Y_train, Y_test = train_test_split(\n",
    "                        X, Y, random_state = 0, test_size = 0.1)\n",
    "    \n",
    "    return X_train, Y_train, X_test, Y_test, count"
   ]
  },
  {
   "cell_type": "code",
   "execution_count": 5,
   "metadata": {},
   "outputs": [],
   "source": [
    "dataset_files = \"./data/\"\n",
    "X_train, Y_train, X_test, Y_test, count = load_dataset(dataset_files)"
   ]
  },
  {
   "cell_type": "code",
   "execution_count": 6,
   "metadata": {},
   "outputs": [
    {
     "name": "stdout",
     "output_type": "stream",
     "text": [
      "(108000, 12)\n",
      "(12000, 12)\n"
     ]
    }
   ],
   "source": [
    "image_size = 28\n",
    "# (108000, 28, 28, 1)\n",
    "X_train = X_train.reshape(X_train.shape[0], image_size, image_size, 1)\n",
    "# (12000, 28, 28, 1)\n",
    "X_test = X_test.reshape(X_test.shape[0], image_size, image_size, 1)\n",
    "# 起始为 0 到 255\n",
    "X_train = X_train / 255\n",
    "X_test = X_test / 255\n",
    "# 处理对应多少个类别的 one-hot 编码\n",
    "# (108000, 12)\n",
    "Y_train = tf.keras.utils.to_categorical(Y_train, count)\n",
    "# (12000, 12)\n",
    "Y_test = tf.keras.utils.to_categorical(Y_test, count)\n",
    "print(Y_train.shape)\n",
    "print(Y_test.shape)"
   ]
  },
  {
   "cell_type": "code",
   "execution_count": 7,
   "metadata": {},
   "outputs": [],
   "source": [
    "def summaryGraph(path):\n",
    "    wr = tf.summary.FileWriter(path, tf.get_default_graph())\n",
    "    wr.close()"
   ]
  },
  {
   "cell_type": "code",
   "execution_count": 8,
   "metadata": {},
   "outputs": [],
   "source": [
    "# 搭建模型结构\n",
    "# 重置图，可以反复运行，\n",
    "tf.reset_default_graph()\n",
    "\n",
    "# 所需变量\n",
    "x = None\n",
    "y = None\n",
    "# 三层卷积，三层池化，三层激活层，两层全连接层\n",
    "# 权重,\n",
    "w_conv = [None, None, None]\n",
    "# 偏差值\n",
    "b_conv = [None, None, None]\n",
    "# 卷积\n",
    "r_conv = [None, None, None]\n",
    "# 激活\n",
    "h_conv = [None, None, None]\n",
    "# 池化层\n",
    "h_pool = [None, None, None]\n",
    "keep_prob = None\n",
    "# 全连接层\n",
    "w_fc = [None, None]\n",
    "b_fc = [None, None]\n",
    "h_fc = [None, None]\n",
    "\n",
    "def build_model():\n",
    "    global x, y\n",
    "    global w_conv, b_conv, r_conv, h_conv\n",
    "    global h_pool, keep_prob\n",
    "    global w_fc, b_fc, h_fc\n",
    "    \n",
    "    # 输入层 \n",
    "    with tf.variable_scope('input'):\n",
    "        x = tf.placeholder(tf.float32\n",
    "                                 , shape=[None, 28, 28, 1]\n",
    "                                 , name = 'x')\n",
    "        \n",
    "    # 卷积层 1： conv1 [None, 28, 28, 16]\n",
    "    with tf.variable_scope('conv1'):\n",
    "        # truncated_normal 从截断的正态分布中输出随机值\n",
    "        w_conv[0] = tf.Variable(tf.truncated_normal([3, 3, 1, 16]\n",
    "                                , stddev = 0.1))\n",
    "        b_conv[0] = tf.Variable(tf.truncated_normal([16]\n",
    "                                , stddev = 0.1))\n",
    "        r_conv[0] = tf.nn.conv2d(x, w_conv[0], strides=[1,1,1,1]\n",
    "                                , padding=\"SAME\")\n",
    "        # wx + b\n",
    "        r_conv[0] = r_conv[0] + b_conv[0]\n",
    "        \n",
    "    # 激活层 1： h1\n",
    "    with tf.variable_scope('h1'):\n",
    "        h_conv[0] = tf.nn.relu(r_conv[0])\n",
    "        \n",
    "    # 池化层 1： pool1 [None, 14, 14, 16]\n",
    "    with tf.variable_scope('pool1'):\n",
    "        h_pool[0] = tf.nn.max_pool(h_conv[0], ksize = [1,2,2,1]\n",
    "                                  , strides = [1,2,2,1], padding = 'SAME')\n",
    "    \n",
    "    \n",
    "    # 卷积层 2： conv2 \n",
    "    with tf.variable_scope('conv2'):\n",
    "        w_conv[1] = tf.Variable(tf.truncated_normal([3, 3, 16, 32]\n",
    "                                , stddev = 0.1))\n",
    "        b_conv[1] = tf.Variable(tf.truncated_normal([32]\n",
    "                                , stddev = 0.1))\n",
    "        r_conv[1] = tf.nn.conv2d(h_pool[0], w_conv[1], strides=[1,1,1,1]\n",
    "                                , padding = 'SAME')\n",
    "        r_conv[1] = r_conv[1] + b_conv[1]\n",
    "    \n",
    "    # 激活层 2： h2\n",
    "    with tf.variable_scope('h2'):\n",
    "        h_conv[1] = tf.nn.relu(r_conv[1])\n",
    "    \n",
    "    # 池化层 2:  pool2 [None, 7, 7, 32]\n",
    "    with tf.variable_scope('pool2'):\n",
    "        h_pool[1] = tf.nn.max_pool(h_conv[1], ksize=[1,2,2,1]\n",
    "                                  , strides = [1,2,2,1], padding='SAME')\n",
    "    \n",
    "    # 卷积层 3： conv3\n",
    "    with tf.variable_scope('conv3'):\n",
    "        w_conv[2] = tf.Variable(tf.truncated_normal([3, 3, 32, 64]\n",
    "                                , stddev = 0.1))\n",
    "        b_conv[2] = tf.Variable(tf.truncated_normal([64]\n",
    "                                , stddev = 0.1))\n",
    "        r_conv[2] = tf.nn.conv2d(h_pool[1], w_conv[2], strides=[1,1,1,1]\n",
    "                         , padding = 'SAME')\n",
    "        r_conv[2] = r_conv[2] + b_conv[2]\n",
    "        \n",
    "        \n",
    "    # 激活层 3： h3\n",
    "    with tf.variable_scope('h3'):\n",
    "        h_conv[2] = tf.nn.relu(r_conv[2])\n",
    "        \n",
    "    # 池化层 3： pool3 [None, 4, 4, 64]\n",
    "    with tf.variable_scope('pool3'):\n",
    "        h_pool[2] = tf.nn.max_pool(h_conv[2], ksize=[1,2,2,1]\n",
    "                                  , strides = [1,2,2,1], padding='SAME')\n",
    "        \n",
    "    # 全连接层 1 ： fc1\n",
    "    with tf.variable_scope('fc1'):\n",
    "        keep_prob = tf.placeholder(tf.float32)\n",
    "        h_pool3_flat = tf.reshape(h_pool[2], [-1, 4*4*64])\n",
    "        w_fc[0] = tf.Variable(tf.truncated_normal([4*4*64, 1024]\n",
    "                                , stddev = 0.1))\n",
    "        b_fc[0] = tf.Variable(tf.truncated_normal([1024]\n",
    "                                , stddev = 0.1))\n",
    "        h_fc[0] = tf.nn.relu(tf.matmul(h_pool3_flat, w_fc[0]))\n",
    "        h_fc[0] = h_fc[0] + b_fc[0]\n",
    "        # 正则化\n",
    "        h_fc[0] = tf.nn.dropout(h_fc[0], keep_prob)\n",
    "        \n",
    "    # 全连接层 2 :  fc2\n",
    "    with tf.variable_scope('fc2'):\n",
    "        # 分类 count 12种\n",
    "        w_fc[1] = tf.Variable(tf.truncated_normal([1024, count]\n",
    "                                , stddev = 0.1))\n",
    "        b_fc[1] = tf.Variable(tf.truncated_normal([count]\n",
    "                                , stddev = 0.1))\n",
    "        h_fc[1] = tf.matmul(h_fc[0], w_fc[1])\n",
    "        h_fc[1] = h_fc[1] + b_fc[1]\n",
    "    \n",
    "    # output,多分类softmax函数\n",
    "    with tf.variable_scope('output'):\n",
    "        prediction = tf.nn.softmax(h_fc[1])\n",
    "    \n",
    "    return prediction"
   ]
  },
  {
   "cell_type": "code",
   "execution_count": 9,
   "metadata": {},
   "outputs": [
    {
     "name": "stdout",
     "output_type": "stream",
     "text": [
      "WARNING:tensorflow:From /home/bishi/anaconda3/envs/tfgpu/lib/python3.6/site-packages/tensorflow/python/framework/op_def_library.py:263: colocate_with (from tensorflow.python.framework.ops) is deprecated and will be removed in a future version.\n",
      "Instructions for updating:\n",
      "Colocations handled automatically by placer.\n",
      "WARNING:tensorflow:From <ipython-input-8-2da5e931754a>:109: calling dropout (from tensorflow.python.ops.nn_ops) with keep_prob is deprecated and will be removed in a future version.\n",
      "Instructions for updating:\n",
      "Please use `rate` instead of `keep_prob`. Rate should be set to `rate = 1 - keep_prob`.\n",
      "WARNING:tensorflow:From /home/bishi/anaconda3/envs/tfgpu/lib/python3.6/site-packages/tensorflow/python/ops/math_ops.py:3066: to_int32 (from tensorflow.python.ops.math_ops) is deprecated and will be removed in a future version.\n",
      "Instructions for updating:\n",
      "Use tf.cast instead.\n"
     ]
    }
   ],
   "source": [
    "# 训练模型\n",
    "y = tf.placeholder(tf.float32, shape=[None, count], name = 'y')\n",
    "batch_size = 512\n",
    "train_step = None\n",
    "\n",
    "model = build_model()\n",
    "reduce_sum = -tf.reduce_sum(y * tf.log(model)\n",
    "                                , reduction_indices = [1])\n",
    "    \n",
    "loss = tf.reduce_mean(reduce_sum)\n",
    "    \n",
    "train_step = tf.train.AdamOptimizer(1e-4).minimize(loss)\n",
    "    \n",
    "saver = tf.train.Saver()\n",
    "\n",
    "with tf.Session() as sess:\n",
    "    init = tf.global_variables_initializer()\n",
    "    sess.run(init)\n",
    "    \n",
    "    for i in range(10):\n",
    "        train_batch = zip(range(0, len(X_train), batch_size)\n",
    "                          , range(batch_size, len(X_train) + 1, batch_size))\n",
    "        \n",
    "        for start, end in train_batch:\n",
    "            sess.run(train_step, feed_dict = {x:X_train[start:end]\n",
    "                                             ,y:Y_train[start:end]\n",
    "                                             ,keep_prob:0.75})\n",
    "        saver.save(sess, './model/mymodel')"
   ]
  },
  {
   "cell_type": "code",
   "execution_count": 10,
   "metadata": {},
   "outputs": [],
   "source": [
    "def predictByModel(img):\n",
    "    with tf.Session() as sess:\n",
    "        saver = tf.train.import_meta_graph('model/mymodel.meta')\n",
    "        saver.restore(sess, tf.train.latest_checkpoint(\"model/\"))\n",
    "        result = sess.run(model, feed_dict={x:img, keep_prob:1})\n",
    "      \n",
    "        rIdx = np.argmax(result)\n",
    "        pred = names[rIdx]\n",
    "        return pred"
   ]
  },
  {
   "cell_type": "code",
   "execution_count": 11,
   "metadata": {},
   "outputs": [
    {
     "name": "stdout",
     "output_type": "stream",
     "text": [
      "WARNING:tensorflow:From /home/bishi/anaconda3/envs/tfgpu/lib/python3.6/site-packages/tensorflow/python/training/saver.py:1266: checkpoint_exists (from tensorflow.python.training.checkpoint_management) is deprecated and will be removed in a future version.\n",
      "Instructions for updating:\n",
      "Use standard file APIs to check for files with this prefix.\n",
      "INFO:tensorflow:Restoring parameters from model/mymodel\n",
      "your draw is  dragon.npy\n"
     ]
    },
    {
     "data": {
      "text/plain": [
       "<matplotlib.image.AxesImage at 0x7f3d4b6e0160>"
      ]
     },
     "execution_count": 11,
     "metadata": {},
     "output_type": "execute_result"
    },
    {
     "data": {
      "image/png": "[encoded data removed]",
      "text/plain": [
       "<Figure size 432x288 with 1 Axes>"
      ]
     },
     "metadata": {
      "needs_background": "light"
     },
     "output_type": "display_data"
    }
   ],
   "source": [
    "from matplotlib import image\n",
    "mytest = image.imread('./test.png')\n",
    "mytest_gray = mytest[:, :, 0]\n",
    "mytest_img = np.reshape(mytest_gray, [1, 28, 28, 1])\n",
    "print('your draw is ', predictByModel(mytest_img))\n",
    "plt.imshow(mytest)"
   ]
  },
  {
   "cell_type": "code",
   "execution_count": null,
   "metadata": {},
   "outputs": [],
   "source": []
  }
 ],
 "metadata": {
  "kernelspec": {
   "display_name": "Python 3",
   "language": "python",
   "name": "python3"
  },
  "language_info": {
   "codemirror_mode": {
    "name": "ipython",
    "version": 3
   },
   "file_extension": ".py",
   "mimetype": "text/x-python",
   "name": "python",
   "nbconvert_exporter": "python",
   "pygments_lexer": "ipython3",
   "version": "3.6.8"
  }
 },
 "nbformat": 4,
 "nbformat_minor": 2
}
